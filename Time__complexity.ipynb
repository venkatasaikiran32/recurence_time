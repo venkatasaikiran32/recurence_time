{
  "nbformat": 4,
  "nbformat_minor": 0,
  "metadata": {
    "colab": {
      "provenance": []
    },
    "kernelspec": {
      "name": "python3",
      "display_name": "Python 3"
    },
    "language_info": {
      "name": "python"
    }
  },
  "cells": [
    {
      "cell_type": "code",
      "execution_count": null,
      "metadata": {
        "id": "jhLUxpZfcgqH"
      },
      "outputs": [],
      "source": []
    },
    {
      "cell_type": "markdown",
      "source": [
        "Find time complexity of below code blocks :\\\n",
        "\n"
      ],
      "metadata": {
        "id": "pOWMB_Wic0Bh"
      }
    },
    {
      "cell_type": "markdown",
      "source": [
        "Problem 1 :\n",
        "\n",
        "def quicksort(arr):\n",
        "\n",
        "if len(arr) <= 1:\n",
        "\n",
        "return arr\n",
        "\n",
        "pivot = arr[len(arr) // 2]\n",
        "\n",
        "left = [x for x in arr if x < pivot]\n",
        "\n",
        "middle = [x for x in arr if x == pivot]\n",
        "\n",
        "right = [x for x in arr if x > pivot]\n",
        "\n",
        "return quicksort(left) + middle + quicksort(right)"
      ],
      "metadata": {
        "id": "nE4zUNSPc3XF"
      }
    },
    {
      "cell_type": "markdown",
      "source": [
        "The quicksort function is a recursive implementation of the QuickSort algorithm. Here's a step-by-step breakdown:\n",
        "\n",
        "Base Case: If the array has one or zero elements (len(arr) <= 1), it's already sorted, so the function returns the array immediately.\n",
        "\n",
        "Pivot Selection: The pivot is chosen as the middle element of the array (arr[len(arr) // 2]).\n",
        "\n",
        "Partitioning: The array is partitioned into three subarrays:\n",
        "\n",
        "left: Elements less than the pivot.\n",
        "middle: Elements equal to the pivot.\n",
        "right: Elements greater than the pivot.\n",
        "Recursive Calls: The quicksort function is called recursively on the left and right subarrays.\n",
        "\n",
        "Concatenation: The final sorted array is constructed by concatenating the sorted left subarray, the middle subarray, and the sorted right subarray.\n",
        "\n",
        "Time Complexity Analysis\n",
        "Partitioning Step\n",
        "Partitioning: The list comprehensions (left, middle, right) iterate over the entire array to partition it based on the pivot. This operation takes\n",
        "𝑂\n",
        "(\n",
        "𝑛\n",
        ")\n",
        " time, where\n",
        "𝑛\n",
        " is the number of elements in the array.\n",
        "Recursive Step\n",
        "Recursive Calls: The function makes two recursive calls to quicksort with the left and right subarrays. The size of these subarrays depends on how the pivot divides the original array.\n",
        "Best Case\n",
        "Best Case: The best case occurs when the pivot divides the array into two equal halves. In this scenario, the recursive tree is balanced.\n",
        "The time complexity in the best case can be expressed as:\n",
        "𝑇\n",
        "(\n",
        "𝑛\n",
        ")\n",
        "=\n",
        "2\n",
        "𝑇\n",
        "(\n",
        "𝑛\n",
        "2\n",
        ")\n",
        "+\n",
        "𝑂\n",
        "(\n",
        "𝑛\n",
        ")\n",
        "\n",
        "This recurrence relation solves to\n",
        "𝑇\n",
        "(\n",
        "𝑛\n",
        ")\n",
        "=\n",
        "𝑂\n",
        "(\n",
        "𝑛\n",
        "log\n",
        "⁡\n",
        "𝑛\n",
        ")\n",
        ".\n",
        "Worst Case\n",
        "Worst Case: The worst case occurs when the pivot is the smallest or largest element, resulting in one subarray having\n",
        "𝑛\n",
        "−\n",
        "1\n",
        " elements and the other having\n",
        "0\n",
        " elements. In this scenario, the recursion depth is\n",
        "𝑛\n",
        ", and at each level, the partitioning step takes\n",
        "𝑂\n",
        "(\n",
        "𝑛\n",
        ")\n",
        " time.\n",
        "The time complexity in the worst case can be expressed as:\n",
        "𝑇\n",
        "(\n",
        "𝑛\n",
        ")\n",
        "=\n",
        "𝑇\n",
        "(\n",
        "𝑛\n",
        "−\n",
        "1\n",
        ")\n",
        "+\n",
        "𝑂\n",
        "(\n",
        "𝑛\n",
        ")\n",
        "\n",
        "This recurrence relation solves to\n",
        "𝑇\n",
        "(\n",
        "𝑛\n",
        ")\n",
        "=\n",
        "𝑂\n",
        "(\n",
        "𝑛\n",
        "2\n",
        ")\n",
        ".\n",
        "Average Case\n",
        "Average Case: On average, the pivot divides the array into two roughly equal parts. The average case time complexity is similar to the best case:\n",
        "The time complexity is\n",
        "𝑇\n",
        "(\n",
        "𝑛\n",
        ")\n",
        "=\n",
        "𝑂\n",
        "(\n",
        "𝑛\n",
        "log\n",
        "⁡\n",
        "𝑛\n",
        ")\n",
        ".\n",
        "Summary\n",
        "Best Case Time Complexity:\n",
        "𝑂\n",
        "(\n",
        "𝑛\n",
        "log\n",
        "⁡\n",
        "𝑛\n",
        ")\n",
        "\n",
        "Average Case Time Complexity:\n",
        "𝑂\n",
        "(\n",
        "𝑛\n",
        "log\n",
        "⁡\n",
        "𝑛\n",
        ")\n",
        "\n",
        "Worst Case Time Complexity:\n",
        "𝑂\n",
        "(\n",
        "𝑛\n",
        "2\n",
        ")\n",
        "\n",
        "The QuickSort algorithm is generally efficient with an average-case time complexity of\n",
        "\n",
        "O(nlogn), but its worst-case time complexity is\n",
        "𝑂\n",
        "(\n",
        "𝑛\n",
        "2\n",
        ")\n",
        ", which can occur in poorly chosen pivot scenarios (e.g., if the array is already sorted and the pivot is always the smallest or largest element)."
      ],
      "metadata": {
        "id": "Prw8i1C8dppI"
      }
    },
    {
      "cell_type": "markdown",
      "source": [
        "Problem 2 :\n",
        "\n",
        "def nested_loop_example(matrix):\n",
        "\n",
        "rows, cols = len(matrix), len(matrix[0])\n",
        "\n",
        "total = 0\n",
        "\n",
        "for i in range(rows):\n",
        "\n",
        "for j in range(cols):\n",
        "\n",
        "total += matrix[i][j]\n",
        "\n",
        "return total"
      ],
      "metadata": {
        "id": "X1ZMincgebPt"
      }
    },
    {
      "cell_type": "markdown",
      "source": [
        "The nested_loop_example function takes a 2D matrix as input and sums up all its elements. Here's a breakdown:\n",
        "\n",
        "Input: The input is a 2D list (or matrix) of dimensions\n",
        "rows\n",
        "×\n",
        "cols\n",
        ".\n",
        "\n",
        "Initialization:\n",
        "\n",
        "The number of rows and columns in the matrix are determined using len(matrix) and len(matrix[0]), respectively.\n",
        "Nested Loops:\n",
        "\n",
        "The function uses a nested loop to iterate over each element of the matrix.\n",
        "The outer loop runs over the rows (from 0 to rows - 1).\n",
        "The inner loop runs over the columns (from 0 to cols - 1).\n",
        "Summation:\n",
        "\n",
        "Inside the inner loop, each element matrix[i][j] is added to the total.\n",
        "Return:\n",
        "\n",
        "The function returns the total sum of all elements in the matrix.\n",
        "Time Complexity Analysis\n",
        "Loop Analysis\n",
        "Outer Loop: The outer loop runs rows times.\n",
        "Inner Loop: For each iteration of the outer loop, the inner loop runs cols times.\n",
        "Overall Time Complexity\n",
        "Since the inner loop is nested within the outer loop, the total number of iterations is\n",
        "\n",
        "rows×cols.\n",
        "In each iteration, a constant-time operation (addition) is performed.\n",
        "The time complexity of the entire function is:\n",
        "\n",
        "𝑂\n",
        "(\n",
        "rows\n",
        "×\n",
        "cols\n",
        ")\n",
        "\n",
        "This is often written as\n",
        "𝑂\n",
        "(\n",
        "𝑛\n",
        "×\n",
        "𝑚\n",
        ")\n",
        ", where\n",
        "𝑛\n",
        " is the number of rows and\n",
        "𝑚\n",
        "is the number of columns.\n",
        "\n",
        "Summary\n",
        "Time Complexity:\n",
        "𝑂\n",
        "(\n",
        "𝑛\n",
        "×\n",
        "𝑚\n",
        ")\n",
        ", where\n",
        "𝑛\n",
        " is the number of rows and\n",
        "𝑚\n",
        " is the number of columns in the matrix.\n",
        "This time complexity is linear with respect to the number of elements in the matrix."
      ],
      "metadata": {
        "id": "sEQafskiekY-"
      }
    },
    {
      "cell_type": "code",
      "source": [],
      "metadata": {
        "id": "n29aw2nsc18z"
      },
      "execution_count": null,
      "outputs": []
    },
    {
      "cell_type": "markdown",
      "source": [
        "Problem 3 :\n",
        "\n",
        "def example_function(arr):\n",
        "\n",
        "result = 0\n",
        "\n",
        "for element in arr:\n",
        "\n",
        "result += element\n",
        "\n",
        "return result"
      ],
      "metadata": {
        "id": "-DdyBn-zez6r"
      }
    },
    {
      "cell_type": "markdown",
      "source": [
        "The example_function takes a 1D array (or list) arr as input and returns the sum of all its elements. Here's a step-by-step breakdown:\n",
        "\n",
        "Initialization:\n",
        "\n",
        "The variable result is initialized to 0.\n",
        "Loop:\n",
        "\n",
        "A for loop iterates over each element in the array arr.\n",
        "In each iteration, the current element (element) is added to result.\n",
        "Return:\n",
        "\n",
        "After the loop completes, the function returns the total sum stored in result.\n",
        "Time Complexity Analysis\n",
        "Loop Analysis\n",
        "The for loop iterates over each element in the array arr.\n",
        "If the array has\n",
        "\n",
        "n elements, the loop runs\n",
        "𝑛\n",
        " times.\n",
        "Overall Time Complexity\n",
        "The operation inside the loop (adding an element to result) takes constant time\n",
        "𝑂\n",
        "(\n",
        "1\n",
        ")\n",
        ".\n",
        "Since the loop runs\n",
        "𝑛\n",
        " times, the overall time complexity is:\n",
        "𝑂\n",
        "(\n",
        "𝑛\n",
        ")\n",
        "\n",
        "Summary\n",
        "Time Complexity:\n",
        "𝑂\n",
        "(\n",
        "𝑛\n",
        ")\n",
        ", where\n",
        "𝑛\n",
        " is the number of elements in the array arr.\n",
        "This time complexity is linear with respect to the size of the input array."
      ],
      "metadata": {
        "id": "YLWmfUIcfI52"
      }
    },
    {
      "cell_type": "code",
      "source": [],
      "metadata": {
        "id": "75R2aIyQe3MK"
      },
      "execution_count": null,
      "outputs": []
    },
    {
      "cell_type": "markdown",
      "source": [
        "Problem 4 :\n",
        "\n",
        "def longest_increasing_subsequence(nums):\n",
        "\n",
        "n = len(nums)\n",
        "\n",
        "lis = [1] * n\n",
        "\n",
        "for i in range(1, n):\n",
        "\n",
        "for j in range(0, i):\n",
        "\n",
        "if nums[i] > nums[j] and lis[i] < lis[j] + 1:\n",
        "\n",
        "lis[i] = lis[j] + 1\n",
        "\n",
        "return max(lis)"
      ],
      "metadata": {
        "id": "PlBkgvKnfQ0F"
      }
    },
    {
      "cell_type": "markdown",
      "source": [
        "The longest_increasing_subsequence function computes the length of the longest increasing subsequence (LIS) in a given list of numbers nums.\n",
        "\n",
        "Initialization:\n",
        "\n",
        "n = len(nums): The variable n stores the length of the input list nums.\n",
        "lis = [1] * n: A list lis is initialized with all elements set to 1, where lis[i] represents the length of the longest increasing subsequence ending at index i.\n",
        "Nested Loops:\n",
        "\n",
        "The outer loop runs from i = 1 to i = n-1.\n",
        "The inner loop runs from j = 0 to j = i-1.\n",
        "Inside the inner loop, a comparison is made between nums[i] and nums[j] to check if nums[i] can extend the subsequence ending at nums[j]. If true, the value of lis[i] is updated.\n",
        "Return:\n",
        "\n",
        "The function returns the maximum value in the lis list, which represents the length of the longest increasing subsequence in nums.\n",
        "Time Complexity Analysis\n",
        "Loop Analysis\n",
        "Outer Loop: The outer loop runs from i = 1 to i = n-1, which means it runs\n",
        "𝑛\n",
        "−\n",
        "1\n",
        " times.\n",
        "Inner Loop: For each iteration of the outer loop, the inner loop runs from j = 0 to j = i-1. In the worst case, the inner loop runs\n",
        "𝑖\n",
        "times.\n",
        "Overall Time Complexity\n",
        "The inner loop iterates over a range that depends on the current iteration of the outer loop. So the total number of operations performed by both loops is:\n",
        "∑\n",
        "(𝑖\n",
        "=\n",
        "1 to\n",
        "𝑛\n",
        "−\n",
        "1)\n",
        "∑\n",
        "(𝑗\n",
        "=\n",
        "0 to\n",
        "𝑖\n",
        "−\n",
        "1)\n",
        "1\n",
        "\n",
        "This double summation can be simplified as:\n",
        "\n",
        "∑\n",
        "(𝑖\n",
        "=\n",
        "1 to\n",
        "𝑛\n",
        "−\n",
        "1)\n",
        "𝑖\n",
        "=\n",
        "(\n",
        "𝑛\n",
        "−\n",
        "1\n",
        ")\n",
        "×\n",
        "𝑛/\n",
        "2\n",
        "\n",
        "\n",
        "Which results in a time complexity of:\n",
        "\n",
        "𝑂\n",
        "(\n",
        "𝑛\n",
        "2\n",
        ")\n",
        "\n",
        "Summary\n",
        "Time Complexity:\n",
        "𝑂\n",
        "(\n",
        "𝑛\n",
        "2\n",
        ")\n",
        "\n",
        " , where\n",
        "𝑛\n",
        " is the number of elements in the input list nums.\n",
        "The time complexity is quadratic, which is typical for algorithms that involve nested loops iterating over the same list.\n",
        "\n",
        "\n",
        "\n",
        "\n",
        "\n",
        "\n",
        "\n"
      ],
      "metadata": {
        "id": "3Yt7UpW1f1TW"
      }
    },
    {
      "cell_type": "code",
      "source": [],
      "metadata": {
        "id": "sB-k3DBLfYls"
      },
      "execution_count": null,
      "outputs": []
    },
    {
      "cell_type": "markdown",
      "source": [
        "Problem 5 :\n",
        "\n",
        "def mysterious_function(arr):\n",
        "\n",
        "n = len(arr)\n",
        "\n",
        "result = 0\n",
        "\n",
        "for i in range(n):\n",
        "\n",
        "for j in range(i, n):\n",
        "\n",
        "result += arr[i] * arr[j]\n",
        "\n",
        "return result"
      ],
      "metadata": {
        "id": "UDisDZzNhCjp"
      }
    },
    {
      "cell_type": "markdown",
      "source": [
        "The mysterious_function takes a 1D array (or list) arr as input and performs a pairwise multiplication of elements within the array, summing the results into result.\n",
        "\n",
        "Initialization:\n",
        "\n",
        "n = len(arr): The variable n stores the length of the input list arr.\n",
        "result = 0: The variable result is initialized to 0 to accumulate the sum of pairwise products.\n",
        "Nested Loops:\n",
        "\n",
        "The outer loop runs from i = 0 to i = n-1.\n",
        "The inner loop runs from j = i to j = n-1.\n",
        "Inside the inner loop, the product arr[i] * arr[j] is added to result.\n",
        "Return:\n",
        "\n",
        "The function returns the accumulated sum result.\n",
        "Time Complexity Analysis\n",
        "Loop Analysis\n",
        "Outer Loop: The outer loop runs\n",
        "\n",
        "n times, iterating over each element i from 0 to n-1.\n",
        "\n",
        "Inner Loop: For each iteration of the outer loop, the inner loop starts at j = i and runs up to n-1. The number of iterations for the inner loop depends on the current value of i.\n",
        "\n",
        "For i = 0, the inner loop runs\n",
        "𝑛\n",
        " times.\n",
        "For i = 1, the inner loop runs\n",
        "𝑛\n",
        "−\n",
        "1\n",
        " times.\n",
        "For i = 2, the inner loop runs\n",
        "𝑛\n",
        "−\n",
        "2\n",
        " times.\n",
        "And so on, until the last iteration where the inner loop runs 1 time.\n",
        "Overall Time Complexity\n",
        "The total number of iterations across both loops is:\n",
        "∑\n",
        "(𝑖\n",
        "=\n",
        "0 to\n",
        "𝑛\n",
        "−\n",
        "1)\n",
        "(\n",
        "𝑛\n",
        "−\n",
        "𝑖\n",
        ")\n",
        "\n",
        "This sum can be simplified as:\n",
        "\n",
        "∑\n",
        "(𝑖\n",
        "=\n",
        "0 to\n",
        "𝑛\n",
        "−\n",
        "1)\n",
        "(\n",
        "𝑛\n",
        "−\n",
        "𝑖\n",
        ")\n",
        "=\n",
        "𝑛\n",
        "+\n",
        "(\n",
        "𝑛\n",
        "−\n",
        "1\n",
        ")\n",
        "+\n",
        "(\n",
        "𝑛\n",
        "−\n",
        "2\n",
        ")\n",
        "+\n",
        "…\n",
        "+\n",
        "1\n",
        "i=0\n",
        "∑\n",
        "n−1\n",
        "​\n",
        "\n",
        "This is an arithmetic series, and the sum of the first\n",
        "𝑛\n",
        "n positive integers is:\n",
        "\n",
        "𝑛\n",
        "(\n",
        "𝑛\n",
        "+\n",
        "1\n",
        ")/\n",
        "2\n",
        "\n",
        "\n",
        "The time complexity is therefore:\n",
        "\n",
        "𝑂\n",
        "(\n",
        "𝑛\n",
        "(\n",
        "𝑛\n",
        "+\n",
        "1\n",
        ")/\n",
        "2\n",
        ")\n",
        "=\n",
        "𝑂\n",
        "(\n",
        "𝑛\n",
        "2\n",
        ")\n",
        "\n",
        "\n",
        "Summary\n",
        "Time Complexity:\n",
        "𝑂\n",
        "(\n",
        "𝑛\n",
        "2\n",
        ")\n",
        ", where\n",
        "𝑛\n",
        " is the number of elements in the input array arr.\n",
        "The time complexity is quadratic, which is typical for nested loops where the inner loop depends on the current index of the outer loop.\n",
        "\n",
        "\n",
        "\n",
        "\n",
        "\n",
        "\n",
        "\n"
      ],
      "metadata": {
        "id": "h_mDuN5Ohb98"
      }
    },
    {
      "cell_type": "code",
      "source": [],
      "metadata": {
        "id": "EJMxH7qwhJ2N"
      },
      "execution_count": null,
      "outputs": []
    },
    {
      "cell_type": "markdown",
      "source": [
        "Solve the following problems on recursion"
      ],
      "metadata": {
        "id": "idX2QKD_iVqT"
      }
    },
    {
      "cell_type": "markdown",
      "source": [
        "Problem 6 : Sum of Digits\n",
        "\n",
        "Write a recursive function to calculate the sum of digits of a given positive integer.\n",
        "\n",
        "sum_of_digits(123) -> 6"
      ],
      "metadata": {
        "id": "meNrzIkyiYip"
      }
    },
    {
      "cell_type": "markdown",
      "source": [
        "Approach\n",
        "\n",
        "Base Case:\n",
        "\n",
        "If the integer is a single digit (i.e., less than 10), the sum of its digits is the number itself.\n",
        "\n",
        "Recursive Case:\n",
        "\n",
        "For any number with more than one digit, split the number into its last digit and the remaining digits.\n",
        "The sum of digits of the number is the last digit plus the sum of digits of the remaining part."
      ],
      "metadata": {
        "id": "NDh0ybKniyuT"
      }
    },
    {
      "cell_type": "code",
      "source": [
        "def sum_of_digits(n):\n",
        "    # Base case: If n is a single digit\n",
        "    if n < 10:\n",
        "        return n\n",
        "    else:\n",
        "        # Recursive case: Sum the last digit with the sum of digits of the remaining number\n",
        "        return n % 10 + sum_of_digits(n // 10)\n",
        "\n",
        "# Example usage\n",
        "result = sum_of_digits(123)\n",
        "print(result)\n"
      ],
      "metadata": {
        "colab": {
          "base_uri": "https://localhost:8080/"
        },
        "id": "40oPv8F5iXvD",
        "outputId": "ee33d4cc-c843-426e-ca9d-18c00eaf85cf"
      },
      "execution_count": null,
      "outputs": [
        {
          "output_type": "stream",
          "name": "stdout",
          "text": [
            "6\n"
          ]
        }
      ]
    },
    {
      "cell_type": "markdown",
      "source": [
        "Explanation\n",
        "\n",
        "Base Case:\n",
        "If n is less than 10 (i.e., it's a single digit), return n.\n",
        "\n",
        "Recursive Case:\n",
        "\n",
        "n % 10 gives the last digit of n.\n",
        "n // 10 gives the remaining number after removing the last digit.\n",
        "The function recursively calls itself with n // 10 and adds the last digit to the result.\n",
        "\n",
        "Example Trace\n",
        "For n = 123:\n",
        "\n",
        "sum_of_digits(123) returns 3 + sum_of_digits(12)\n",
        "\n",
        "sum_of_digits(12) returns 2 + sum_of_digits(1)\n",
        "\n",
        "sum_of_digits(1) returns 1 (base case)\n",
        "\n",
        "Adding them together: 3 + 2 + 1 = 6.\n",
        "\n",
        "Summary\n",
        "The recursive function effectively calculates the sum of the digits by breaking the number down into smaller parts until it reaches a single digit, then adds all the digits together."
      ],
      "metadata": {
        "id": "b-TLIXbFjLie"
      }
    },
    {
      "cell_type": "code",
      "source": [],
      "metadata": {
        "id": "VHc8f_NhjDte"
      },
      "execution_count": null,
      "outputs": []
    },
    {
      "cell_type": "markdown",
      "source": [
        "Problem 7: Fibonacci Series\n",
        "\n",
        "Write a recursive function to generate the first n numbers of the Fibonacci series\n",
        ".\n",
        "fibonacci_series(6) -> [0, 1, 1, 2, 3, 5]"
      ],
      "metadata": {
        "id": "_wpeDdoAjYyE"
      }
    },
    {
      "cell_type": "markdown",
      "source": [
        "\n",
        "To generate the first n numbers of the Fibonacci series using a recursive function, we'll follow these steps:\n",
        "\n",
        "\n",
        "Approach\n",
        "\n",
        "Understanding Fibonacci Series:\n",
        "\n",
        "The Fibonacci series is a sequence where each number is the sum of the two preceding ones, starting from 0 and 1.\n",
        "The series begins as: 0, 1, 1, 2, 3, 5, 8, ...\n",
        "\n",
        "Base Cases:\n",
        "\n",
        "If n == 1, the series should return [0].\n",
        "If n == 2, the series should return [0, 1].\\\n",
        "\n",
        "Recursive Case:\n",
        "\n",
        "For n > 2, the function should return the Fibonacci series up to n-1 numbers, and append the next Fibonacci number (which is the sum of the last two numbers in the series)."
      ],
      "metadata": {
        "id": "le1VEqzojvcA"
      }
    },
    {
      "cell_type": "code",
      "source": [
        "def fibonacci_series(n):\n",
        "    # Base cases\n",
        "    if n == 1:\n",
        "        return [0]\n",
        "    elif n == 2:\n",
        "        return [0, 1]\n",
        "    else:\n",
        "        # Recursive case: Get the Fibonacci series up to n-1\n",
        "        series = fibonacci_series(n - 1)\n",
        "        # Append the next number, which is the sum of the last two numbers in the series\n",
        "        series.append(series[-1] + series[-2])\n",
        "        return series\n",
        "\n",
        "# Example usage\n",
        "result = fibonacci_series(6)\n",
        "print(result)\n"
      ],
      "metadata": {
        "colab": {
          "base_uri": "https://localhost:8080/"
        },
        "id": "I2IJw7vmjcKZ",
        "outputId": "b1175b69-ae86-48d9-940c-f32b5db70247"
      },
      "execution_count": null,
      "outputs": [
        {
          "output_type": "stream",
          "name": "stdout",
          "text": [
            "[0, 1, 1, 2, 3, 5]\n"
          ]
        }
      ]
    },
    {
      "cell_type": "markdown",
      "source": [
        "Explanation\n",
        "\n",
        "Base Cases:\n",
        "If n == 1, return [0] because the first Fibonacci number is 0.\n",
        "\n",
        "If n == 2, return [0, 1] because the first two Fibonacci numbers are 0 and 1.\n",
        "\n",
        "Recursive Case:\n",
        "For n > 2, the function first recursively computes the Fibonacci series up to n-1.\n",
        "It then appends the next Fibonacci number, which is the sum of the last two elements of the current series.\n",
        "Example Trace\n",
        "\n",
        "For n = 6:\n",
        "\n",
        "fibonacci_series(6) calls fibonacci_series(5) and appends fibonacci_series(5)[-1] + fibonacci_series(5)[-2].\n",
        "This pattern continues down to fibonacci_series(2) and fibonacci_series(1), where the base cases are resolved.\n",
        "The final series is constructed as the recursive calls return and append the necessary numbers.\n",
        "\n",
        "Summary\n",
        "The recursive function builds the Fibonacci series from the base cases by recursively adding the next number in the sequence, resulting in a list of the first n Fibonacci numbers."
      ],
      "metadata": {
        "id": "87XT3UGpkBr5"
      }
    },
    {
      "cell_type": "code",
      "source": [],
      "metadata": {
        "id": "UQ4KpPQvj5f1"
      },
      "execution_count": null,
      "outputs": []
    },
    {
      "cell_type": "markdown",
      "source": [
        "Problem 8 : Subset Sum\n",
        "\n",
        "Given a set of positive integers and a target sum, write a recursive function to determine if there exists a subset\n",
        "of the integers that adds up to the target sum.\n",
        "\n",
        "subset_sum([3, 34, 4, 12, 5, 2], 9) -> True"
      ],
      "metadata": {
        "id": "VsmY1DCYkaxh"
      }
    },
    {
      "cell_type": "markdown",
      "source": [
        "Approach\n",
        "\n",
        "Recursive Cases:\n",
        "\n",
        "We consider each number in the set and have two options:\n",
        "Include the current number in the subset and check if the remaining sum can be achieved with the remaining elements.\n",
        "Exclude the current number and check if the target sum can be achieved with the remaining elements.\n",
        "If either of these cases returns True, then a valid subset exists.\n",
        "\n",
        "\n",
        "Base Cases:\n",
        "\n",
        "If the target sum becomes 0, we've found a valid subset, so return True.\n",
        "If the set is empty (i.e., no more elements to consider) and the target sum is not 0, return False.\n",
        "\n",
        "\n",
        "\n",
        "\n"
      ],
      "metadata": {
        "id": "rbNEZl9FktqV"
      }
    },
    {
      "cell_type": "code",
      "source": [
        "def subset_sum(nums, target):\n",
        "    # Base cases\n",
        "    if target == 0:\n",
        "        return True\n",
        "    if len(nums) == 0:\n",
        "        return False\n",
        "\n",
        "    # Recursive cases:\n",
        "    # 1. Exclude the current number and check the rest\n",
        "    exclude = subset_sum(nums[1:], target)\n",
        "\n",
        "    # 2. Include the current number and check the rest\n",
        "    include = subset_sum(nums[1:], target - nums[0])\n",
        "\n",
        "    # Return True if either inclusion or exclusion results in the target sum\n",
        "    return include or exclude\n",
        "\n",
        "# Example usage\n",
        "result = subset_sum([3, 34, 4, 12, 5, 2], 9)\n",
        "print(result)  # Output: True\n"
      ],
      "metadata": {
        "colab": {
          "base_uri": "https://localhost:8080/"
        },
        "id": "EtSZqt6dkdDn",
        "outputId": "6b348616-f31f-41a2-a103-5ed36bbbac9f"
      },
      "execution_count": null,
      "outputs": [
        {
          "output_type": "stream",
          "name": "stdout",
          "text": [
            "True\n"
          ]
        }
      ]
    },
    {
      "cell_type": "markdown",
      "source": [
        "Problem 9: Word Break\n",
        "\n",
        "Given a non-empty string and a dictionary of words, write a recursive function to determine if the string can be\n",
        "segmented into a space-separated sequence of dictionary words.\n",
        "\n",
        "word_break( leetcode , [ leet , code ]) -> True"
      ],
      "metadata": {
        "id": "Yk1uc4xUlQo9"
      }
    },
    {
      "cell_type": "code",
      "source": [
        "def word_break(s, word_dict):\n",
        "    # Base case: if the string is empty, return True\n",
        "    if not s:\n",
        "        return True\n",
        "\n",
        "    # Check each prefix of the string\n",
        "    for i in range(1, len(s) + 1):\n",
        "        prefix = s[:i]\n",
        "        # If the prefix is in the dictionary, recursively check the remaining part of the string\n",
        "        if prefix in word_dict and word_break(s[i:], word_dict):\n",
        "            return True\n",
        "\n",
        "    # If no valid segmentation found, return False\n",
        "    return False\n",
        "\n",
        "# Example usage\n",
        "result = word_break(\"leetcode\", [\"leet\", \"code\"])\n",
        "print(result)  # Output: True\n"
      ],
      "metadata": {
        "colab": {
          "base_uri": "https://localhost:8080/"
        },
        "id": "Rb5rD3pBlG4t",
        "outputId": "f60b8737-99a6-4b50-e0bd-894fcfe7f95d"
      },
      "execution_count": null,
      "outputs": [
        {
          "output_type": "stream",
          "name": "stdout",
          "text": [
            "True\n"
          ]
        }
      ]
    },
    {
      "cell_type": "markdown",
      "source": [
        "10. n-queens problem\n",
        "\n",
        "Implement a recursive function to solve the N Queens problem, where you have to place N queens on an N×N\n",
        "chessboard in such a way that no two queens threaten each other.\n",
        "n_queens(4)\n",
        "[\n",
        "[\".Q..\",\n",
        "\"...Q\",\n",
        "\"Q...\",\n",
        "\"..Q.\"],\n",
        "[\"..Q.\",\n",
        "\"Q...\",\n",
        "\"...Q\",\n",
        "\".Q..\"]\n",
        "]"
      ],
      "metadata": {
        "id": "fnrRW9-9l2GE"
      }
    },
    {
      "cell_type": "markdown",
      "source": [
        "The N-Queens problem involves placing N queens on an N×N chessboard such that no two queens threaten each other. In chess, queens can move any number of squares vertically, horizontally, or diagonally, so our solution needs to ensure that no two queens share the same row, column, or diagonal."
      ],
      "metadata": {
        "id": "7_4bSAe5md-6"
      }
    },
    {
      "cell_type": "markdown",
      "source": [
        "Recursive Function:\n",
        "\n",
        "Use a recursive function to place queens row by row.\n",
        "For each row, try placing a queen in each column and recursively attempt to place queens in the next rows.\n",
        "Use backtracking to remove queens and try different configurations if a conflict is found.\n",
        "\n",
        "Constraints:\n",
        "\n",
        "Ensure no two queens are in the same column.\n",
        "Ensure no two queens are on the same diagonal."
      ],
      "metadata": {
        "id": "eQ9IERWamkrR"
      }
    },
    {
      "cell_type": "code",
      "source": [
        "def solve_n_queens(n):\n",
        "    def is_not_under_attack(board, row, col):\n",
        "        # Check column and diagonals\n",
        "        for i in range(row):\n",
        "            if board[i] == col or \\\n",
        "               board[i] - i == col - row or \\\n",
        "               board[i] + i == col + row:\n",
        "                return False\n",
        "        return True\n",
        "\n",
        "    def place_queens(row):\n",
        "        if row == n:\n",
        "            result = []\n",
        "            for i in range(n):\n",
        "                row_result = ['.' * n]  # Create a list of '.' for the row\n",
        "                row_result = list(row_result[0])  # Convert the string to a list\n",
        "                row_result[board[i]] = 'Q'  # Place the queen\n",
        "                result.append(\"\".join(row_result))  # Convert list back to string\n",
        "            solutions.append(result)\n",
        "            return\n",
        "\n",
        "        for col in range(n):\n",
        "            if is_not_under_attack(board, row, col):\n",
        "                board[row] = col\n",
        "                place_queens(row + 1)\n",
        "                board[row] = -1\n",
        "\n",
        "    board = [-1] * n\n",
        "    solutions = []\n",
        "    place_queens(0)\n",
        "    return solutions\n",
        "\n",
        "# Example usage\n",
        "result = solve_n_queens(4)\n",
        "for solution in result:\n",
        "    for row in solution:\n",
        "        print(row)\n",
        "    print()\n"
      ],
      "metadata": {
        "colab": {
          "base_uri": "https://localhost:8080/"
        },
        "id": "br_QBjcHnKKR",
        "outputId": "146ca718-17fa-4e6a-9446-061535061e1b"
      },
      "execution_count": null,
      "outputs": [
        {
          "output_type": "stream",
          "name": "stdout",
          "text": [
            ".Q..\n",
            "...Q\n",
            "Q...\n",
            "..Q.\n",
            "\n",
            "..Q.\n",
            "Q...\n",
            "...Q\n",
            ".Q..\n",
            "\n"
          ]
        }
      ]
    },
    {
      "cell_type": "code",
      "source": [],
      "metadata": {
        "id": "BA_7PeKanp29"
      },
      "execution_count": null,
      "outputs": []
    }
  ]
}